{
 "cells": [
  {
   "cell_type": "code",
   "execution_count": 1,
   "id": "6561f4be-a2a1-4b79-879d-6a3201737766",
   "metadata": {},
   "outputs": [
    {
     "name": "stdout",
     "output_type": "stream",
     "text": [
      "Hello World\n"
     ]
    }
   ],
   "source": [
    "print(\"Hello World\")"
   ]
  },
  {
   "cell_type": "markdown",
   "id": "79f86327-9ab5-4b4a-8fcd-9bd61ff6cfe2",
   "metadata": {},
   "source": [
    "# AutoRank-LLMs"
   ]
  },
  {
   "cell_type": "code",
   "execution_count": null,
   "id": "72d20709-497f-4128-8627-08b1303a1b7e",
   "metadata": {},
   "outputs": [],
   "source": []
  }
 ],
 "metadata": {
  "kernelspec": {
   "display_name": "Python 3 (ipykernel)",
   "language": "python",
   "name": "python3"
  },
  "language_info": {
   "codemirror_mode": {
    "name": "ipython",
    "version": 3
   },
   "file_extension": ".py",
   "mimetype": "text/x-python",
   "name": "python",
   "nbconvert_exporter": "python",
   "pygments_lexer": "ipython3",
   "version": "3.11.3"
  }
 },
 "nbformat": 4,
 "nbformat_minor": 5
}
