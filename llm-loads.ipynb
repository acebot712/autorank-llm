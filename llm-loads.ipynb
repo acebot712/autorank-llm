{
 "cells": [
  {
   "cell_type": "markdown",
   "id": "6d7c1ac9-8580-4525-97c0-ddb530eb4a98",
   "metadata": {},
   "source": [
    "1. Using LLM for now.\n",
    "2. Replace with vLLM when you have compute and GPUs\n",
    "3. Use Ollama in local"
   ]
  },
  {
   "cell_type": "markdown",
   "id": "57ef140c-a6b1-4172-89a8-b01aa8c592e6",
   "metadata": {},
   "source": [
    "llm"
   ]
  },
  {
   "cell_type": "code",
   "execution_count": null,
   "id": "8b5378b4-bea0-4182-8c17-ce6bbc88bec0",
   "metadata": {},
   "outputs": [],
   "source": [
    "# # CPU\n",
    "# %%timeit -n 3 -r 3\n",
    "# import llm\n",
    "\n",
    "# model = llm.get_model(\"mistral-7b-instruct-v0\")\n",
    "# response = model.prompt(\"3 names for a pet cow\",stream=False)\n",
    "# print(response.text())"
   ]
  },
  {
   "cell_type": "markdown",
   "id": "7443b3fe-6b42-40dc-bdcc-79d1de91ec77",
   "metadata": {},
   "source": [
    "vLLM:- [vLLM](https://github.com/vllm-project/vllm/pull/1901)"
   ]
  },
  {
   "cell_type": "markdown",
   "id": "b483ca0b-d035-4924-8e77-533aa63662eb",
   "metadata": {},
   "source": [
    "Ollama"
   ]
  },
  {
   "cell_type": "code",
   "execution_count": 12,
   "id": "bc69e2cf-60d8-4005-a303-c9c2bc721d2b",
   "metadata": {},
   "outputs": [],
   "source": [
    "from langchain.callbacks.manager import CallbackManager\n",
    "from langchain.callbacks.streaming_stdout import StreamingStdOutCallbackHandler\n",
    "from langchain.llms import Ollama\n",
    "\n"
   ]
  },
  {
   "cell_type": "code",
   "execution_count": 25,
   "id": "3b07953e-6dd5-4a43-90f3-c0586d547438",
   "metadata": {},
   "outputs": [
    {
     "name": "stdout",
     "output_type": "stream",
     "text": [
      "1. Moo-Moo\n",
      "2. Grazie\n",
      "3. Bessie\n"
     ]
    }
   ],
   "source": [
    "llm = Ollama(model=\"mistral:instruct\")\n",
    "response = llm(\"3 names for a pet cow\")\n",
    "print(response)"
   ]
  },
  {
   "cell_type": "code",
   "execution_count": 26,
   "id": "63c332c6-37c0-45fa-8f6a-0e34a51a5a96",
   "metadata": {},
   "outputs": [
    {
     "name": "stdout",
     "output_type": "stream",
     "text": [
      "\n",
      "Sure! Here are three name ideas for a pet cow:\n",
      "\n",
      "1. Bessie - a classic and timeless name for a pet cow, reminiscent of the iconic Bessie the Cow from children's books and TV shows.\n",
      "2. Daisy - a sweet and innocent-sounding name that would be perfect for a friendly and affectionate pet cow.\n",
      "3. Buttercup - a playful and whimsical name that evokes images of a happy, sunny day and could suit a pet cow with a cheerful personality.\n"
     ]
    }
   ],
   "source": [
    "llm = Ollama(model=\"llama2\")\n",
    "response = llm(\"3 names for a pet cow\")\n",
    "print(response)"
   ]
  },
  {
   "cell_type": "code",
   "execution_count": 27,
   "id": "594d654a-753f-44af-8c37-bc9d8db87c4d",
   "metadata": {},
   "outputs": [
    {
     "name": "stdout",
     "output_type": "stream",
     "text": [
      " 1. Bessie\n",
      "2. Daisy\n",
      "3. Lily\n"
     ]
    }
   ],
   "source": [
    "llm = Ollama(model=\"orca-mini\")\n",
    "response = llm(\"3 names for a pet cow\")\n",
    "print(response)"
   ]
  },
  {
   "cell_type": "markdown",
   "id": "313e59f6-21bd-4102-af85-d98713a7bced",
   "metadata": {},
   "source": [
    "# Step 2: Conceptualizing"
   ]
  },
  {
   "cell_type": "code",
   "execution_count": 35,
   "id": "66848554-356f-436d-93c2-eedd1b48641d",
   "metadata": {},
   "outputs": [
    {
     "name": "stdout",
     "output_type": "stream",
     "text": [
      "\n",
      "\n",
      "\n",
      "evaluator.model_name='mistral:instruct',evaluatee.model_name='llama2'\n",
      "\n",
      "Sure! Here are three name ideas for a pet cow:\n",
      "\n",
      "1. Bessie - a classic and timeless name for a cow, perfect for a friendly and gentle pet.\n",
      "2. Daisy - a sweet and cheerful name that evokes images of green pastures and sunny days.\n",
      "3. Buttercup - a playful and affectionate name that is sure to bring a smile to your face every time you say it.\n",
      "scoring_prompt=\"Task: '3 names for a pet cow'. Response: '\\nSure! Here are three name ideas for a pet cow:\\n\\n1. Bessie - a classic and timeless name for a cow, perfect for a friendly and gentle pet.\\n2. Daisy - a sweet and cheerful name that evokes images of green pastures and sunny days.\\n3. Buttercup - a playful and affectionate name that is sure to bring a smile to your face every time you say it.'. Please rate the response numerically based on its relevance and quality. Give a score between 1 and 10.\"\n",
      "response_text='\\nI would rate the response a 9 out of 10. The three name ideas provided are relevant and appropriate for a pet cow, and they each have a unique and charming quality to them. However, I would suggest adding some additional context or information about each name to make it even more helpful for the reader. For example, you could include brief explanations of why these names are good choices for a cow or provide examples of other animals that share these same qualities. Overall, though, the response is well-written and provides useful information.'\n",
      "['9', '10']\n",
      "645.7876744006326\n",
      "\n",
      "evaluator.model_name='mistral:instruct',evaluatee.model_name='orca-mini'\n",
      " 1. Bessy\n",
      "2. Daisy\n",
      "3. Rosie\n",
      "scoring_prompt=\"Task: '3 names for a pet cow'. Response: ' 1. Bessy\\n2. Daisy\\n3. Rosie'. Please rate the response numerically based on its relevance and quality. Give a score between 1 and 10.\"\n",
      "response_text='\\nBased on the prompt and the response, I would rate it a 7 out of 10. The response provides three common names for cows, which are relevant to the task. However, it lacks originality and creativity in naming a pet cow, and some might find these names too generic or uninspired.'\n",
      "['7', '10']\n",
      "577.8100244637238\n",
      "\n",
      "\n",
      "evaluator.model_name='llama2',evaluatee.model_name='mistral:instruct'\n",
      "\n",
      "1. Moochie\n",
      "2. Bessie\n",
      "3. Daisy\n",
      "scoring_prompt=\"Task: '3 names for a pet cow'. Response: '\\n1. Moochie\\n2. Bessie\\n3. Daisy'. Please rate the response numerically based on its relevance and quality. Give a score between 1 and 10.\"\n",
      "response_text=\"\\nI would rate the response as follows:\\n\\n1. Moochie - 8/10 (Relevance: High, Quality: Good)\\nMoochie is a cute and playful name for a pet cow. It's a unique and memorable name that sounds suitable for a cow.\\n2. Bessie - 7/10 (Relevance: Moderate, Quality: Average)\\nBessie is a classic name for a cow, but it's not particularly unique or memorable. It's a solid choice, but not as creative or attention-grabbing as some of the other options.\\n3. Daisy - 6/10 (Relevance: Moderate, Quality: Average)\\nDaisy is a pleasant and innocent-sounding name for a cow. It's not particularly distinctive or memorable, but it's a nice choice for someone who wants a simple and straightforward name for their pet cow.\\n\\nOverall, I would give the response a score of 7/10. The names provided are all decent choices, but they don't stand out as particularly creative or unique.\"\n",
      "['1', '8', '10', '2', '7', '10', '3', '6', '10', '7', '10']\n",
      "423.31387594377986\n",
      "\n",
      "\n",
      "evaluator.model_name='llama2',evaluatee.model_name='orca-mini'\n",
      " 1. Bessie\n",
      "2. Daisy\n",
      "3. Lily\n",
      "scoring_prompt=\"Task: '3 names for a pet cow'. Response: ' 1. Bessie\\n2. Daisy\\n3. Lily'. Please rate the response numerically based on its relevance and quality. Give a score between 1 and 10.\"\n",
      "response_text='\\nI would rate the response as follows:\\n\\n1. Relevance: 8/10 - The names provided are all common and fitting for a pet cow. Bessie, Daisy, and Lily are all popular cow names that are easy to pronounce and remember.\\n2. Quality: 9/10 - The names provided are all well-established and widely recognized as cow names. They are simple, easy to spell, and easy to pronounce, making them good choices for a pet cow.\\n\\nOverall score: 8.5/10'\n",
      "['1', '8', '10', '2', '9', '10', '8', '5', '10']\n",
      "440.47524929285197\n",
      "\n",
      "\n",
      "evaluator.model_name='orca-mini',evaluatee.model_name='mistral:instruct'\n",
      "1. Bessie\n",
      "2. Moo-Moo\n",
      "3. Charlotte\n",
      "scoring_prompt=\"Task: '3 names for a pet cow'. Response: '1. Bessie\\n2. Moo-Moo\\n3. Charlotte'. Please rate the response numerically based on its relevance and quality. Give a score between 1 and 10.\"\n",
      "response_text=' I would rate the response a 10, as it was very relevant and provided three appropriate names for a pet cow. The names were creative and sounded like they belonged to a real-life cow.'\n",
      "['10']\n",
      "549.2469704173953\n",
      "\n",
      "evaluator.model_name='orca-mini',evaluatee.model_name='llama2'\n",
      "\n",
      "Sure! Here are three possible names for a pet cow:\n",
      "\n",
      "1. Bessie - a classic and timeless name for a pet cow, which evokes images of a friendly and docile animal.\n",
      "2. Daisy - a sweet and innocent-sounding name that would be perfect for a pet cow with a gentle and affectionate personality.\n",
      "3. Buttercup - a playful and whimsical name that would suit a pet cow with a bright and cheerful disposition.\n",
      "scoring_prompt=\"Task: '3 names for a pet cow'. Response: '\\nSure! Here are three possible names for a pet cow:\\n\\n1. Bessie - a classic and timeless name for a pet cow, which evokes images of a friendly and docile animal.\\n2. Daisy - a sweet and innocent-sounding name that would be perfect for a pet cow with a gentle and affectionate personality.\\n3. Buttercup - a playful and whimsical name that would suit a pet cow with a bright and cheerful disposition.'. Please rate the response numerically based on its relevance and quality. Give a score between 1 and 10.\"\n",
      "response_text=' I would rate this response a 10! The names provided are all suitable and appropriate for a pet cow, and they offer a range of personalities and characteristics that could make the animal a beloved addition to any household.'\n",
      "['10']\n",
      "549.2469704173953\n",
      "\n",
      "LLM1 updated skill level: 486.2804231805876\n",
      "LLM2 updated skill level: 597.517322409014\n",
      "LLM3 updated skill level: 509.14263687828793\n"
     ]
    }
   ],
   "source": [
    "import re\n",
    "import random\n",
    "\n",
    "class LLM:\n",
    "    def __init__(self, name, model_name):\n",
    "        self.name = name\n",
    "        self.model_name = model_name\n",
    "        self.skill_level = random.uniform(50, 100)  # Random initial skill level\n",
    "        self.evaluations = []\n",
    "\n",
    "    def perform_task(self, task):\n",
    "        # The evaluatee performs the task\n",
    "        llm = Ollama(model=self.model_name)\n",
    "        response = llm(task)\n",
    "        return response\n",
    "\n",
    "    def evaluate(self, original_task, task_response):\n",
    "        # The evaluator scores the task response\n",
    "        scoring_prompt = f\"Task: '{original_task}'. Response: '{task_response}'. Please rate the response numerically based on its relevance and quality. Give a score between 1 and 10.\"\n",
    "        llm = Ollama(model=self.model_name)\n",
    "        score_response = llm(scoring_prompt)\n",
    "        return self.extract_numerical_score(score_response)\n",
    "\n",
    "    def extract_numerical_score(self, response_text):\n",
    "        # Extract numbers between 1 and 10 and calculate average\n",
    "        matches = re.findall(r'\\b(10|\\d)(?:\\.0)?\\b', response_text)\n",
    "        if matches:\n",
    "            scores = [int(match) for match in matches]\n",
    "            average_score = sum(scores) / len(scores)\n",
    "            return average_score\n",
    "        else:\n",
    "            return 0  # Default to 0 if no matches found\n",
    "\n",
    "    def update_skill_level(self):\n",
    "        # Update skill level based on evaluations\n",
    "        if self.evaluations:\n",
    "            new_skill_level = sum(self.evaluations) / len(self.evaluations)\n",
    "            change_in_skill_level = abs(new_skill_level - self.skill_level)\n",
    "            self.skill_level = new_skill_level\n",
    "            self.evaluations = []  # Reset for next round\n",
    "            return change_in_skill_level\n",
    "        return 0\n",
    "\n",
    "# Model names\n",
    "model_names = [\"mistral:instruct\", \"llama2\", \"orca-mini\"]\n",
    "\n",
    "# Create LLM instances\n",
    "llms = [LLM(f\"LLM{i}\", model_name) for i, model_name in enumerate(model_names, start=1)]\n",
    "\n",
    "# Evaluation task\n",
    "task = \"3 names for a pet cow\"\n",
    "\n",
    "# Convergence threshold\n",
    "threshold = 0.5\n",
    "converged = False\n",
    "\n",
    "while not converged:\n",
    "    max_change = 0\n",
    "    for evaluator in llms:\n",
    "        for evaluatee in llms:\n",
    "            if evaluator != evaluatee:\n",
    "                task_response = evaluatee.perform_task(task)\n",
    "                score = evaluator.evaluate(task, task_response)\n",
    "                weighted_score = score * evaluator.skill_level\n",
    "                evaluatee.evaluations.append(weighted_score)\n",
    "\n",
    "    # Check for convergence\n",
    "    changes = [llm.update_skill_level() for llm in llms]\n",
    "    max_change = max(changes)\n",
    "    converged = max_change < threshold\n",
    "\n",
    "# Print final skill levels\n",
    "for llm in llms:\n",
    "    print(f\"{llm.model_name} final skill level: {llm.skill_level}\")\n"
   ]
  },
  {
   "cell_type": "code",
   "execution_count": null,
   "id": "8334bc2c-1f65-465d-a0ba-d5935e1c6789",
   "metadata": {},
   "outputs": [],
   "source": []
  }
 ],
 "metadata": {
  "kernelspec": {
   "display_name": "Python 3 (ipykernel)",
   "language": "python",
   "name": "python3"
  },
  "language_info": {
   "codemirror_mode": {
    "name": "ipython",
    "version": 3
   },
   "file_extension": ".py",
   "mimetype": "text/x-python",
   "name": "python",
   "nbconvert_exporter": "python",
   "pygments_lexer": "ipython3",
   "version": "3.11.3"
  }
 },
 "nbformat": 4,
 "nbformat_minor": 5
}
